{
 "cells": [
  {
   "cell_type": "markdown",
   "metadata": {},
   "source": [
    "## Regularization: application with medical microbiology diagnosis\n",
    "\n",
    "We want to predict the IBD (Inflammatory Bowel Disease) clinical status of patients **given the abundance of microbial species** living in their gut.\n",
    "\n",
    "Each patient is assigned to a clinical status, and the abundances of known species in their gut are reported in a matrix of size `patient x species`.\n",
    "\n",
    "We focus here on the seminal metagenomic study by Nielsen H.B. et al, published in 2014.\n",
    "\n"
   ]
  },
  {
   "cell_type": "code",
   "execution_count": 3,
   "metadata": {},
   "outputs": [],
   "source": [
    "import pandas as pd\n",
    "import numpy as np\n",
    "from sklearn import linear_model\n",
    "from sklearn.model_selection import train_test_split\n",
    "from sklearn.model_selection import cross_validate\n",
    "from sklearn.metrics import roc_auc_score\n",
    "\n",
    "# Viz\n",
    "import matplotlib.pyplot as plt"
   ]
  },
  {
   "cell_type": "code",
   "execution_count": 5,
   "metadata": {},
   "outputs": [
    {
     "data": {
      "text/html": [
       "<div>\n",
       "<style scoped>\n",
       "    .dataframe tbody tr th:only-of-type {\n",
       "        vertical-align: middle;\n",
       "    }\n",
       "\n",
       "    .dataframe tbody tr th {\n",
       "        vertical-align: top;\n",
       "    }\n",
       "\n",
       "    .dataframe thead th {\n",
       "        text-align: right;\n",
       "    }\n",
       "</style>\n",
       "<table border=\"1\" class=\"dataframe\">\n",
       "  <thead>\n",
       "    <tr style=\"text-align: right;\">\n",
       "      <th></th>\n",
       "      <th>k__Bacteria</th>\n",
       "      <th>k__Archaea</th>\n",
       "      <th>k__Viruses</th>\n",
       "      <th>k__Bacteria|p__Bacteroidetes</th>\n",
       "      <th>k__Bacteria|p__Firmicutes</th>\n",
       "      <th>k__Bacteria|p__Proteobacteria</th>\n",
       "      <th>k__Bacteria|p__Actinobacteria</th>\n",
       "      <th>k__Archaea|p__Euryarchaeota</th>\n",
       "      <th>k__Bacteria|p__Verrucomicrobia</th>\n",
       "      <th>k__Viruses|p__Viruses_noname</th>\n",
       "      <th>...</th>\n",
       "      <th>k__Bacteria|p__Proteobacteria|c__Alphaproteobacteria|o__Rhodobacterales|f__Rhodobacteraceae</th>\n",
       "      <th>k__Viroids|p__Viroids_noname|c__Viroids_noname|o__Viroids_noname|f__Pospiviroidae|g__Pospiviroidae_noname</th>\n",
       "      <th>k__Bacteria|p__Actinobacteria|c__Actinobacteria|o__Actinomycetales|f__Microbacteriaceae|g__Leifsonia</th>\n",
       "      <th>k__Bacteria|p__Proteobacteria|c__Gammaproteobacteria|o__Chromatiales|f__Ectothiorhodospiraceae|g__Thioalkalivibrio</th>\n",
       "      <th>k__Bacteria|p__Proteobacteria|c__Alphaproteobacteria|o__Rhodobacterales|f__Rhodobacteraceae|g__Labrenzia</th>\n",
       "      <th>k__Viroids|p__Viroids_noname|c__Viroids_noname|o__Viroids_noname|f__Pospiviroidae|g__Pospiviroidae_noname|s__Dahlia_latent_viroid</th>\n",
       "      <th>k__Bacteria|p__Actinobacteria|c__Actinobacteria|o__Actinomycetales|f__Microbacteriaceae|g__Leifsonia|s__Leifsonia_unclassified</th>\n",
       "      <th>k__Bacteria|p__Proteobacteria|c__Gammaproteobacteria|o__Chromatiales|f__Ectothiorhodospiraceae|g__Thioalkalivibrio|s__Thioalkalivibrio_unclassified</th>\n",
       "      <th>k__Bacteria|p__Proteobacteria|c__Alphaproteobacteria|o__Rhodobacterales|f__Rhodobacteraceae|g__Labrenzia|s__Labrenzia_unclassified</th>\n",
       "      <th>k__Viroids|p__Viroids_noname|c__Viroids_noname|o__Viroids_noname|f__Pospiviroidae|g__Pospiviroidae_noname|s__Dahlia_latent_viroid|t__PRJNA186953</th>\n",
       "    </tr>\n",
       "  </thead>\n",
       "  <tbody>\n",
       "    <tr>\n",
       "      <th>MH0001</th>\n",
       "      <td>99.85542</td>\n",
       "      <td>0.12024</td>\n",
       "      <td>0.02435</td>\n",
       "      <td>75.76233</td>\n",
       "      <td>22.45185</td>\n",
       "      <td>0.79821</td>\n",
       "      <td>0.77138</td>\n",
       "      <td>0.12024</td>\n",
       "      <td>0.04902</td>\n",
       "      <td>0.02435</td>\n",
       "      <td>...</td>\n",
       "      <td>0.00000</td>\n",
       "      <td>0.00000</td>\n",
       "      <td>0.00000</td>\n",
       "      <td>0.00000</td>\n",
       "      <td>0.00000</td>\n",
       "      <td>0.00000</td>\n",
       "      <td>0.00000</td>\n",
       "      <td>0.00000</td>\n",
       "      <td>0.00000</td>\n",
       "      <td>0.00000</td>\n",
       "    </tr>\n",
       "    <tr>\n",
       "      <th>MH0002</th>\n",
       "      <td>99.84094</td>\n",
       "      <td>0.00000</td>\n",
       "      <td>0.15906</td>\n",
       "      <td>29.66601</td>\n",
       "      <td>63.00964</td>\n",
       "      <td>0.80546</td>\n",
       "      <td>1.31857</td>\n",
       "      <td>0.00000</td>\n",
       "      <td>5.02320</td>\n",
       "      <td>0.15906</td>\n",
       "      <td>...</td>\n",
       "      <td>0.00000</td>\n",
       "      <td>0.00000</td>\n",
       "      <td>0.00000</td>\n",
       "      <td>0.00000</td>\n",
       "      <td>0.00000</td>\n",
       "      <td>0.00000</td>\n",
       "      <td>0.00000</td>\n",
       "      <td>0.00000</td>\n",
       "      <td>0.00000</td>\n",
       "      <td>0.00000</td>\n",
       "    </tr>\n",
       "    <tr>\n",
       "      <th>MH0003</th>\n",
       "      <td>99.99769</td>\n",
       "      <td>0.00000</td>\n",
       "      <td>0.00231</td>\n",
       "      <td>28.89089</td>\n",
       "      <td>68.87499</td>\n",
       "      <td>1.10182</td>\n",
       "      <td>1.11216</td>\n",
       "      <td>0.00000</td>\n",
       "      <td>0.00000</td>\n",
       "      <td>0.00231</td>\n",
       "      <td>...</td>\n",
       "      <td>0.00000</td>\n",
       "      <td>0.00000</td>\n",
       "      <td>0.00000</td>\n",
       "      <td>0.00000</td>\n",
       "      <td>0.00000</td>\n",
       "      <td>0.00000</td>\n",
       "      <td>0.00000</td>\n",
       "      <td>0.00000</td>\n",
       "      <td>0.00000</td>\n",
       "      <td>0.00000</td>\n",
       "    </tr>\n",
       "    <tr>\n",
       "      <th>MH0004</th>\n",
       "      <td>99.54958</td>\n",
       "      <td>0.44427</td>\n",
       "      <td>0.00615</td>\n",
       "      <td>36.82369</td>\n",
       "      <td>59.90264</td>\n",
       "      <td>0.96707</td>\n",
       "      <td>1.79713</td>\n",
       "      <td>0.44427</td>\n",
       "      <td>0.00000</td>\n",
       "      <td>0.00615</td>\n",
       "      <td>...</td>\n",
       "      <td>0.00000</td>\n",
       "      <td>0.00000</td>\n",
       "      <td>0.00000</td>\n",
       "      <td>0.00000</td>\n",
       "      <td>0.00000</td>\n",
       "      <td>0.00000</td>\n",
       "      <td>0.00000</td>\n",
       "      <td>0.00000</td>\n",
       "      <td>0.00000</td>\n",
       "      <td>0.00000</td>\n",
       "    </tr>\n",
       "    <tr>\n",
       "      <th>MH0005</th>\n",
       "      <td>99.85338</td>\n",
       "      <td>0.02338</td>\n",
       "      <td>0.12324</td>\n",
       "      <td>53.45066</td>\n",
       "      <td>44.00230</td>\n",
       "      <td>0.66402</td>\n",
       "      <td>1.34265</td>\n",
       "      <td>0.02338</td>\n",
       "      <td>0.33886</td>\n",
       "      <td>0.12324</td>\n",
       "      <td>...</td>\n",
       "      <td>0.00000</td>\n",
       "      <td>0.00000</td>\n",
       "      <td>0.00000</td>\n",
       "      <td>0.00000</td>\n",
       "      <td>0.00000</td>\n",
       "      <td>0.00000</td>\n",
       "      <td>0.00000</td>\n",
       "      <td>0.00000</td>\n",
       "      <td>0.00000</td>\n",
       "      <td>0.00000</td>\n",
       "    </tr>\n",
       "    <tr>\n",
       "      <th>...</th>\n",
       "      <td>...</td>\n",
       "      <td>...</td>\n",
       "      <td>...</td>\n",
       "      <td>...</td>\n",
       "      <td>...</td>\n",
       "      <td>...</td>\n",
       "      <td>...</td>\n",
       "      <td>...</td>\n",
       "      <td>...</td>\n",
       "      <td>...</td>\n",
       "      <td>...</td>\n",
       "      <td>...</td>\n",
       "      <td>...</td>\n",
       "      <td>...</td>\n",
       "      <td>...</td>\n",
       "      <td>...</td>\n",
       "      <td>...</td>\n",
       "      <td>...</td>\n",
       "      <td>...</td>\n",
       "      <td>...</td>\n",
       "      <td>...</td>\n",
       "    </tr>\n",
       "    <tr>\n",
       "      <th>V1_UC61_0</th>\n",
       "      <td>100.00000</td>\n",
       "      <td>0.00000</td>\n",
       "      <td>0.00000</td>\n",
       "      <td>73.60036</td>\n",
       "      <td>23.13241</td>\n",
       "      <td>1.97125</td>\n",
       "      <td>1.29598</td>\n",
       "      <td>0.00000</td>\n",
       "      <td>0.00000</td>\n",
       "      <td>0.00000</td>\n",
       "      <td>...</td>\n",
       "      <td>0.00000</td>\n",
       "      <td>0.00000</td>\n",
       "      <td>0.00000</td>\n",
       "      <td>0.00000</td>\n",
       "      <td>0.00000</td>\n",
       "      <td>0.00000</td>\n",
       "      <td>0.00000</td>\n",
       "      <td>0.00000</td>\n",
       "      <td>0.00000</td>\n",
       "      <td>0.00000</td>\n",
       "    </tr>\n",
       "    <tr>\n",
       "      <th>V1_UC62_0</th>\n",
       "      <td>99.43677</td>\n",
       "      <td>0.53534</td>\n",
       "      <td>0.02789</td>\n",
       "      <td>59.81443</td>\n",
       "      <td>31.16507</td>\n",
       "      <td>1.25950</td>\n",
       "      <td>7.12218</td>\n",
       "      <td>0.53534</td>\n",
       "      <td>0.07560</td>\n",
       "      <td>0.02789</td>\n",
       "      <td>...</td>\n",
       "      <td>0.00000</td>\n",
       "      <td>0.00000</td>\n",
       "      <td>0.00000</td>\n",
       "      <td>0.00000</td>\n",
       "      <td>0.00000</td>\n",
       "      <td>0.00000</td>\n",
       "      <td>0.00000</td>\n",
       "      <td>0.00000</td>\n",
       "      <td>0.00000</td>\n",
       "      <td>0.00000</td>\n",
       "    </tr>\n",
       "    <tr>\n",
       "      <th>V1_UC7_0</th>\n",
       "      <td>99.97056</td>\n",
       "      <td>0.00000</td>\n",
       "      <td>0.02944</td>\n",
       "      <td>61.47615</td>\n",
       "      <td>31.97288</td>\n",
       "      <td>3.65580</td>\n",
       "      <td>1.59657</td>\n",
       "      <td>0.00000</td>\n",
       "      <td>1.25953</td>\n",
       "      <td>0.02944</td>\n",
       "      <td>...</td>\n",
       "      <td>0.00000</td>\n",
       "      <td>0.00000</td>\n",
       "      <td>0.00000</td>\n",
       "      <td>0.00000</td>\n",
       "      <td>0.00000</td>\n",
       "      <td>0.00000</td>\n",
       "      <td>0.00000</td>\n",
       "      <td>0.00000</td>\n",
       "      <td>0.00000</td>\n",
       "      <td>0.00000</td>\n",
       "    </tr>\n",
       "    <tr>\n",
       "      <th>V1_UC8_0</th>\n",
       "      <td>96.71485</td>\n",
       "      <td>3.21396</td>\n",
       "      <td>0.01313</td>\n",
       "      <td>26.64142</td>\n",
       "      <td>56.61496</td>\n",
       "      <td>0.68027</td>\n",
       "      <td>7.95935</td>\n",
       "      <td>3.21396</td>\n",
       "      <td>4.79898</td>\n",
       "      <td>0.01313</td>\n",
       "      <td>...</td>\n",
       "      <td>0.00000</td>\n",
       "      <td>0.00000</td>\n",
       "      <td>0.00000</td>\n",
       "      <td>0.00000</td>\n",
       "      <td>0.00000</td>\n",
       "      <td>0.00000</td>\n",
       "      <td>0.00000</td>\n",
       "      <td>0.00000</td>\n",
       "      <td>0.00000</td>\n",
       "      <td>0.00000</td>\n",
       "    </tr>\n",
       "    <tr>\n",
       "      <th>V1_UC9_0</th>\n",
       "      <td>99.71703</td>\n",
       "      <td>0.20131</td>\n",
       "      <td>0.00974</td>\n",
       "      <td>16.94275</td>\n",
       "      <td>68.26699</td>\n",
       "      <td>0.65139</td>\n",
       "      <td>6.77325</td>\n",
       "      <td>0.20131</td>\n",
       "      <td>6.99597</td>\n",
       "      <td>0.00974</td>\n",
       "      <td>...</td>\n",
       "      <td>0.00336</td>\n",
       "      <td>0.07191</td>\n",
       "      <td>0.00383</td>\n",
       "      <td>0.00379</td>\n",
       "      <td>0.00336</td>\n",
       "      <td>0.07191</td>\n",
       "      <td>0.00383</td>\n",
       "      <td>0.00379</td>\n",
       "      <td>0.00336</td>\n",
       "      <td>0.07191</td>\n",
       "    </tr>\n",
       "  </tbody>\n",
       "</table>\n",
       "<p>396 rows × 1939 columns</p>\n",
       "</div>"
      ],
      "text/plain": [
       "           k__Bacteria  k__Archaea  k__Viruses  k__Bacteria|p__Bacteroidetes  \\\n",
       "MH0001        99.85542     0.12024     0.02435                      75.76233   \n",
       "MH0002        99.84094     0.00000     0.15906                      29.66601   \n",
       "MH0003        99.99769     0.00000     0.00231                      28.89089   \n",
       "MH0004        99.54958     0.44427     0.00615                      36.82369   \n",
       "MH0005        99.85338     0.02338     0.12324                      53.45066   \n",
       "...                ...         ...         ...                           ...   \n",
       "V1_UC61_0    100.00000     0.00000     0.00000                      73.60036   \n",
       "V1_UC62_0     99.43677     0.53534     0.02789                      59.81443   \n",
       "V1_UC7_0      99.97056     0.00000     0.02944                      61.47615   \n",
       "V1_UC8_0      96.71485     3.21396     0.01313                      26.64142   \n",
       "V1_UC9_0      99.71703     0.20131     0.00974                      16.94275   \n",
       "\n",
       "           k__Bacteria|p__Firmicutes  k__Bacteria|p__Proteobacteria  \\\n",
       "MH0001                      22.45185                        0.79821   \n",
       "MH0002                      63.00964                        0.80546   \n",
       "MH0003                      68.87499                        1.10182   \n",
       "MH0004                      59.90264                        0.96707   \n",
       "MH0005                      44.00230                        0.66402   \n",
       "...                              ...                            ...   \n",
       "V1_UC61_0                   23.13241                        1.97125   \n",
       "V1_UC62_0                   31.16507                        1.25950   \n",
       "V1_UC7_0                    31.97288                        3.65580   \n",
       "V1_UC8_0                    56.61496                        0.68027   \n",
       "V1_UC9_0                    68.26699                        0.65139   \n",
       "\n",
       "           k__Bacteria|p__Actinobacteria  k__Archaea|p__Euryarchaeota  \\\n",
       "MH0001                           0.77138                      0.12024   \n",
       "MH0002                           1.31857                      0.00000   \n",
       "MH0003                           1.11216                      0.00000   \n",
       "MH0004                           1.79713                      0.44427   \n",
       "MH0005                           1.34265                      0.02338   \n",
       "...                                  ...                          ...   \n",
       "V1_UC61_0                        1.29598                      0.00000   \n",
       "V1_UC62_0                        7.12218                      0.53534   \n",
       "V1_UC7_0                         1.59657                      0.00000   \n",
       "V1_UC8_0                         7.95935                      3.21396   \n",
       "V1_UC9_0                         6.77325                      0.20131   \n",
       "\n",
       "           k__Bacteria|p__Verrucomicrobia  k__Viruses|p__Viruses_noname  ...  \\\n",
       "MH0001                            0.04902                       0.02435  ...   \n",
       "MH0002                            5.02320                       0.15906  ...   \n",
       "MH0003                            0.00000                       0.00231  ...   \n",
       "MH0004                            0.00000                       0.00615  ...   \n",
       "MH0005                            0.33886                       0.12324  ...   \n",
       "...                                   ...                           ...  ...   \n",
       "V1_UC61_0                         0.00000                       0.00000  ...   \n",
       "V1_UC62_0                         0.07560                       0.02789  ...   \n",
       "V1_UC7_0                          1.25953                       0.02944  ...   \n",
       "V1_UC8_0                          4.79898                       0.01313  ...   \n",
       "V1_UC9_0                          6.99597                       0.00974  ...   \n",
       "\n",
       "           k__Bacteria|p__Proteobacteria|c__Alphaproteobacteria|o__Rhodobacterales|f__Rhodobacteraceae  \\\n",
       "MH0001                                               0.00000                                             \n",
       "MH0002                                               0.00000                                             \n",
       "MH0003                                               0.00000                                             \n",
       "MH0004                                               0.00000                                             \n",
       "MH0005                                               0.00000                                             \n",
       "...                                                      ...                                             \n",
       "V1_UC61_0                                            0.00000                                             \n",
       "V1_UC62_0                                            0.00000                                             \n",
       "V1_UC7_0                                             0.00000                                             \n",
       "V1_UC8_0                                             0.00000                                             \n",
       "V1_UC9_0                                             0.00336                                             \n",
       "\n",
       "           k__Viroids|p__Viroids_noname|c__Viroids_noname|o__Viroids_noname|f__Pospiviroidae|g__Pospiviroidae_noname  \\\n",
       "MH0001                                               0.00000                                                           \n",
       "MH0002                                               0.00000                                                           \n",
       "MH0003                                               0.00000                                                           \n",
       "MH0004                                               0.00000                                                           \n",
       "MH0005                                               0.00000                                                           \n",
       "...                                                      ...                                                           \n",
       "V1_UC61_0                                            0.00000                                                           \n",
       "V1_UC62_0                                            0.00000                                                           \n",
       "V1_UC7_0                                             0.00000                                                           \n",
       "V1_UC8_0                                             0.00000                                                           \n",
       "V1_UC9_0                                             0.07191                                                           \n",
       "\n",
       "           k__Bacteria|p__Actinobacteria|c__Actinobacteria|o__Actinomycetales|f__Microbacteriaceae|g__Leifsonia  \\\n",
       "MH0001                                               0.00000                                                      \n",
       "MH0002                                               0.00000                                                      \n",
       "MH0003                                               0.00000                                                      \n",
       "MH0004                                               0.00000                                                      \n",
       "MH0005                                               0.00000                                                      \n",
       "...                                                      ...                                                      \n",
       "V1_UC61_0                                            0.00000                                                      \n",
       "V1_UC62_0                                            0.00000                                                      \n",
       "V1_UC7_0                                             0.00000                                                      \n",
       "V1_UC8_0                                             0.00000                                                      \n",
       "V1_UC9_0                                             0.00383                                                      \n",
       "\n",
       "           k__Bacteria|p__Proteobacteria|c__Gammaproteobacteria|o__Chromatiales|f__Ectothiorhodospiraceae|g__Thioalkalivibrio  \\\n",
       "MH0001                                               0.00000                                                                    \n",
       "MH0002                                               0.00000                                                                    \n",
       "MH0003                                               0.00000                                                                    \n",
       "MH0004                                               0.00000                                                                    \n",
       "MH0005                                               0.00000                                                                    \n",
       "...                                                      ...                                                                    \n",
       "V1_UC61_0                                            0.00000                                                                    \n",
       "V1_UC62_0                                            0.00000                                                                    \n",
       "V1_UC7_0                                             0.00000                                                                    \n",
       "V1_UC8_0                                             0.00000                                                                    \n",
       "V1_UC9_0                                             0.00379                                                                    \n",
       "\n",
       "           k__Bacteria|p__Proteobacteria|c__Alphaproteobacteria|o__Rhodobacterales|f__Rhodobacteraceae|g__Labrenzia  \\\n",
       "MH0001                                               0.00000                                                          \n",
       "MH0002                                               0.00000                                                          \n",
       "MH0003                                               0.00000                                                          \n",
       "MH0004                                               0.00000                                                          \n",
       "MH0005                                               0.00000                                                          \n",
       "...                                                      ...                                                          \n",
       "V1_UC61_0                                            0.00000                                                          \n",
       "V1_UC62_0                                            0.00000                                                          \n",
       "V1_UC7_0                                             0.00000                                                          \n",
       "V1_UC8_0                                             0.00000                                                          \n",
       "V1_UC9_0                                             0.00336                                                          \n",
       "\n",
       "           k__Viroids|p__Viroids_noname|c__Viroids_noname|o__Viroids_noname|f__Pospiviroidae|g__Pospiviroidae_noname|s__Dahlia_latent_viroid  \\\n",
       "MH0001                                               0.00000                                                                                   \n",
       "MH0002                                               0.00000                                                                                   \n",
       "MH0003                                               0.00000                                                                                   \n",
       "MH0004                                               0.00000                                                                                   \n",
       "MH0005                                               0.00000                                                                                   \n",
       "...                                                      ...                                                                                   \n",
       "V1_UC61_0                                            0.00000                                                                                   \n",
       "V1_UC62_0                                            0.00000                                                                                   \n",
       "V1_UC7_0                                             0.00000                                                                                   \n",
       "V1_UC8_0                                             0.00000                                                                                   \n",
       "V1_UC9_0                                             0.07191                                                                                   \n",
       "\n",
       "           k__Bacteria|p__Actinobacteria|c__Actinobacteria|o__Actinomycetales|f__Microbacteriaceae|g__Leifsonia|s__Leifsonia_unclassified  \\\n",
       "MH0001                                               0.00000                                                                                \n",
       "MH0002                                               0.00000                                                                                \n",
       "MH0003                                               0.00000                                                                                \n",
       "MH0004                                               0.00000                                                                                \n",
       "MH0005                                               0.00000                                                                                \n",
       "...                                                      ...                                                                                \n",
       "V1_UC61_0                                            0.00000                                                                                \n",
       "V1_UC62_0                                            0.00000                                                                                \n",
       "V1_UC7_0                                             0.00000                                                                                \n",
       "V1_UC8_0                                             0.00000                                                                                \n",
       "V1_UC9_0                                             0.00383                                                                                \n",
       "\n",
       "           k__Bacteria|p__Proteobacteria|c__Gammaproteobacteria|o__Chromatiales|f__Ectothiorhodospiraceae|g__Thioalkalivibrio|s__Thioalkalivibrio_unclassified  \\\n",
       "MH0001                                               0.00000                                                                                                     \n",
       "MH0002                                               0.00000                                                                                                     \n",
       "MH0003                                               0.00000                                                                                                     \n",
       "MH0004                                               0.00000                                                                                                     \n",
       "MH0005                                               0.00000                                                                                                     \n",
       "...                                                      ...                                                                                                     \n",
       "V1_UC61_0                                            0.00000                                                                                                     \n",
       "V1_UC62_0                                            0.00000                                                                                                     \n",
       "V1_UC7_0                                             0.00000                                                                                                     \n",
       "V1_UC8_0                                             0.00000                                                                                                     \n",
       "V1_UC9_0                                             0.00379                                                                                                     \n",
       "\n",
       "           k__Bacteria|p__Proteobacteria|c__Alphaproteobacteria|o__Rhodobacterales|f__Rhodobacteraceae|g__Labrenzia|s__Labrenzia_unclassified  \\\n",
       "MH0001                                               0.00000                                                                                    \n",
       "MH0002                                               0.00000                                                                                    \n",
       "MH0003                                               0.00000                                                                                    \n",
       "MH0004                                               0.00000                                                                                    \n",
       "MH0005                                               0.00000                                                                                    \n",
       "...                                                      ...                                                                                    \n",
       "V1_UC61_0                                            0.00000                                                                                    \n",
       "V1_UC62_0                                            0.00000                                                                                    \n",
       "V1_UC7_0                                             0.00000                                                                                    \n",
       "V1_UC8_0                                             0.00000                                                                                    \n",
       "V1_UC9_0                                             0.00336                                                                                    \n",
       "\n",
       "           k__Viroids|p__Viroids_noname|c__Viroids_noname|o__Viroids_noname|f__Pospiviroidae|g__Pospiviroidae_noname|s__Dahlia_latent_viroid|t__PRJNA186953  \n",
       "MH0001                                               0.00000                                                                                                 \n",
       "MH0002                                               0.00000                                                                                                 \n",
       "MH0003                                               0.00000                                                                                                 \n",
       "MH0004                                               0.00000                                                                                                 \n",
       "MH0005                                               0.00000                                                                                                 \n",
       "...                                                      ...                                                                                                 \n",
       "V1_UC61_0                                            0.00000                                                                                                 \n",
       "V1_UC62_0                                            0.00000                                                                                                 \n",
       "V1_UC7_0                                             0.00000                                                                                                 \n",
       "V1_UC8_0                                             0.00000                                                                                                 \n",
       "V1_UC9_0                                             0.07191                                                                                                 \n",
       "\n",
       "[396 rows x 1939 columns]"
      ]
     },
     "execution_count": 5,
     "metadata": {},
     "output_type": "execute_result"
    }
   ],
   "source": [
    "# Load the data\n",
    "ab_data_pd = pd.read_csv(\"gut_abundances.tsv\", sep=\"\\t\", header = 0)\n",
    "descriptor_names = ab_data_pd.columns\n",
    "ab_data = ab_data_pd.to_numpy()\n",
    "status_txt =  pd.read_csv(\"ibd_status.lst\", sep=\"\\t\", header = None).to_numpy()\n",
    "ab_data_pd"
   ]
  },
  {
   "cell_type": "markdown",
   "metadata": {},
   "source": [
    "Take a look at the data: number of samples ($n$), number of descriptors ($p$), names of descriptors (in ```descriptor_names```), etc."
   ]
  },
  {
   "cell_type": "code",
   "execution_count": 8,
   "metadata": {},
   "outputs": [
    {
     "name": "stdout",
     "output_type": "stream",
     "text": [
      "Data shape: 396 1939\n"
     ]
    }
   ],
   "source": [
    "n,p = ab_data.shape\n",
    "print(\"Data shape:\",n,p)"
   ]
  },
  {
   "cell_type": "markdown",
   "metadata": {},
   "source": [
    "We now transform the target variable to a binary (0 ==  control, 1 == IBD) variable ```status```:"
   ]
  },
  {
   "cell_type": "code",
   "execution_count": 10,
   "metadata": {},
   "outputs": [
    {
     "name": "stderr",
     "output_type": "stream",
     "text": [
      "C:\\Users\\ilyin\\AppData\\Local\\Temp\\ipykernel_9860\\110993762.py:1: DeprecationWarning: Conversion of an array with ndim > 0 to a scalar is deprecated, and will error in future. Ensure you extract a single element from your array before performing this operation. (Deprecated NumPy 1.25.)\n",
      "  status = np.ravel([int(s == \"IBD\") for s in status_txt])\n"
     ]
    },
    {
     "data": {
      "text/plain": [
       "array([0, 0, 0, 0, 0, 0, 0, 0, 0, 0, 0, 0, 0, 0, 0, 0, 0, 0, 0, 0, 0, 0,\n",
       "       0, 0, 0, 0, 0, 0, 0, 0, 0, 0, 0, 0, 0, 0, 0, 0, 0, 0, 0, 0, 0, 0,\n",
       "       0, 0, 0, 0, 0, 0, 0, 0, 0, 0, 0, 0, 0, 0, 0, 0, 0, 0, 0, 0, 0, 0,\n",
       "       0, 0, 0, 0, 0, 0, 0, 0, 0, 0, 0, 0, 0, 0, 0, 0, 0, 0, 0, 0, 0, 0,\n",
       "       0, 0, 0, 0, 0, 0, 0, 0, 0, 0, 0, 0, 0, 0, 0, 0, 0, 0, 0, 0, 0, 0,\n",
       "       0, 0, 0, 0, 0, 0, 0, 0, 0, 0, 0, 0, 0, 0, 0, 0, 0, 0, 0, 0, 0, 0,\n",
       "       0, 0, 0, 0, 0, 0, 0, 0, 0, 0, 0, 0, 0, 0, 0, 0, 0, 0, 0, 0, 0, 0,\n",
       "       0, 0, 0, 0, 0, 0, 0, 0, 0, 0, 0, 0, 0, 0, 0, 0, 0, 0, 0, 0, 0, 0,\n",
       "       0, 1, 1, 1, 1, 1, 1, 1, 1, 1, 1, 1, 1, 1, 1, 1, 1, 1, 1, 1, 1, 1,\n",
       "       1, 1, 1, 1, 1, 1, 1, 1, 1, 1, 1, 1, 1, 1, 1, 1, 1, 1, 1, 1, 1, 1,\n",
       "       1, 1, 1, 1, 1, 1, 1, 1, 1, 1, 1, 1, 1, 1, 1, 1, 1, 1, 1, 1, 1, 1,\n",
       "       1, 1, 1, 1, 0, 0, 1, 1, 0, 0, 0, 0, 0, 0, 0, 0, 0, 0, 0, 0, 0, 0,\n",
       "       0, 0, 0, 0, 0, 0, 0, 0, 1, 1, 1, 1, 0, 1, 0, 0, 1, 1, 0, 1, 1, 1,\n",
       "       1, 0, 0, 1, 1, 1, 0, 0, 1, 1, 0, 0, 0, 0, 0, 0, 0, 1, 1, 0, 0, 0,\n",
       "       1, 0, 1, 1, 1, 1, 0, 0, 1, 1, 1, 1, 1, 1, 1, 1, 1, 1, 1, 1, 1, 0,\n",
       "       1, 1, 0, 0, 1, 1, 1, 1, 1, 1, 0, 1, 1, 1, 1, 0, 0, 0, 1, 1, 0, 1,\n",
       "       1, 0, 0, 0, 1, 1, 0, 0, 1, 1, 1, 1, 1, 0, 0, 0, 0, 1, 0, 1, 0, 1,\n",
       "       1, 1, 1, 1, 1, 1, 1, 1, 1, 1, 1, 1, 1, 1, 0, 1, 0, 0, 0, 0, 0, 0])"
      ]
     },
     "execution_count": 10,
     "metadata": {},
     "output_type": "execute_result"
    }
   ],
   "source": [
    "status = np.ravel([int(s == \"IBD\") for s in status_txt])\n",
    "status"
   ]
  },
  {
   "cell_type": "markdown",
   "metadata": {},
   "source": [
    "What is the name of the most correlated species (we denote by S) to the clinical status? Use the ```np.corrcoef``` function to compute the correlation between the data and the status.\n",
    "You can compute the correlation between the data and the status using ```corr_vector = np.corrcoef(ab_data.transpose(),status))[:-1,p]```, which gives the correlation for each species."
   ]
  },
  {
   "cell_type": "code",
   "execution_count": 29,
   "metadata": {},
   "outputs": [
    {
     "data": {
      "text/plain": [
       "'k__Bacteria|p__Bacteroidetes|c__Bacteroidia|o__Bacteroidales|f__Prevotellaceae|g__Prevotella|s__Prevotella_oris'"
      ]
     },
     "execution_count": 29,
     "metadata": {},
     "output_type": "execute_result"
    }
   ],
   "source": [
    "#TO COMPLETE\n",
    "corr_vector = np.corrcoef(ab_data.T,status)[:-1,p]\n",
    "i_max = np.argmax(corr_vector)\n",
    "ab_data_pd.columns[i_max]"
   ]
  },
  {
   "cell_type": "markdown",
   "metadata": {},
   "source": [
    "Create a (naïve) predictor that takes as input the abundance of S and output the clinical status of the patient. Either compute the prediction accuracy or its AUC ROC for every threshold, this will be our baseline predictor to improve on."
   ]
  },
  {
   "cell_type": "code",
   "execution_count": 27,
   "metadata": {},
   "outputs": [
    {
     "name": "stdout",
     "output_type": "stream",
     "text": [
      "(316, 1939)\n",
      "(396, 1939)\n",
      "Best correlated species index: 6\n"
     ]
    },
    {
     "data": {
      "image/png": "[encoded data removed]",
      "text/plain": [
       "<Figure size 640x480 with 1 Axes>"
      ]
     },
     "metadata": {},
     "output_type": "display_data"
    },
    {
     "name": "stdout",
     "output_type": "stream",
     "text": [
      "Accuracy on test set: 0.7125\n",
      "AUC ROC on test set: 0.731785944551902\n"
     ]
    }
   ],
   "source": [
    "# Split data into 50% train and 50% test subsets\n",
    "x_train, x_test, y_train, y_test = train_test_split(\n",
    "    ab_data, status, test_size=0.2, shuffle=True\n",
    ")\n",
    "print(x_train.shape)\n",
    "print(ab_data.shape)\n",
    "\n",
    "# We remove species not abundant in the train set\n",
    "col_to_rm = np.where(np.sum(x_train, axis=0) == 0)\n",
    "x_train = np.delete(x_train, col_to_rm, axis=1)\n",
    "x_test = np.delete(x_test, col_to_rm, axis=1)\n",
    "n, p = x_train.shape\n",
    "\n",
    "# Index of the best correlated species to patient's status\n",
    "best_cor_sp = np.argmax(np.abs(np.corrcoef(x_train.T, y_train)[p, :-1]))\n",
    "print(\"Best correlated species index:\", best_cor_sp)\n",
    "\n",
    "# Compute accuracy\n",
    "accuracy = list()\n",
    "ths = np.linspace(0, int(np.max(x_train[:, best_cor_sp])) + 1, 1000)  # threshold list\n",
    "for t in ths:\n",
    "    predictions = (x_train[:, best_cor_sp] > t)\n",
    "    accuracy.append(sum(predictions == y_train) / n)\n",
    "\n",
    "# Plot the decision threshold vs. performance of the predictor\n",
    "plt.scatter(ths, accuracy)\n",
    "plt.xlabel('Decision Threshold')\n",
    "plt.ylabel('Accuracy')\n",
    "plt.title('Decision Threshold vs. Accuracy')\n",
    "plt.show()\n",
    "\n",
    "# \"Real\" accuracy on the test set\n",
    "# Decision threshold corresponding to the best accuracy.\n",
    "best_ths = ths[np.argmax(accuracy)]\n",
    "# Report the accuracy on the test set\n",
    "test_predictions = (x_test[:, best_cor_sp] > best_ths)\n",
    "test_accuracy = sum(test_predictions == y_test) / len(y_test)\n",
    "print(\"Accuracy on test set:\", test_accuracy)\n",
    "\n",
    "roc = roc_auc_score(y_test == 1, x_test[:, best_cor_sp])\n",
    "print(\"AUC ROC on test set:\", roc)\n"
   ]
  },
  {
   "cell_type": "markdown",
   "metadata": {},
   "source": [
    "Now we hope that we can do better when using more than 1 descriptor.\n",
    "\n",
    "We will first use a standard [logistic regression](https://scikit-learn.org/stable/modules/generated/sklearn.linear_model.LogisticRegression.html). Use the [`cross_validate`](https://scikit-learn.org/stable/modules/generated/sklearn.model_selection.cross_validate.html ) function of Sklearn to evaluate your predictor in a cross-validation way.\n",
    "\n",
    "Take a look at what metrics you can find in the attributes of the cross-validation object `cv` and print the average accuracy.\n",
    "\n",
    "Do you gain in terms of accuracy compared to a single predictor? Check if you are overfitting the data."
   ]
  },
  {
   "cell_type": "code",
   "execution_count": 39,
   "metadata": {},
   "outputs": [
    {
     "name": "stdout",
     "output_type": "stream",
     "text": [
      "Average Cross-Validation accuracy on test: 0.7170512820512821\n",
      "Accuracy on the first fold: 0.7928205128205128\n"
     ]
    }
   ],
   "source": [
    "logreg = linear_model.LogisticRegression(solver=\"liblinear\")\n",
    "cv = cross_validate(logreg, x_train, y_train, cv=5, scoring='accuracy', return_train_score=False)\n",
    "\n",
    "\n",
    "test_score = np.mean(cv['test_score'])\n",
    "print(\"Average Cross-Validation accuracy on test:\",test_score)\n",
    "\n",
    "\n",
    "# Split data into 50% train and 50% test subsets\n",
    "x_train, x_test, y_train, y_test = train_test_split(\n",
    "    ab_data, status, test_size=0.5, shuffle=True\n",
    ")\n",
    "\n",
    "# Print example accuracy on 1 fold\n",
    "fold_example = cross_validate(logreg, x_train, y_train, cv=5, scoring='accuracy', return_train_score=False)\n",
    "print(\"Accuracy on the first fold:\", np.mean(fold_example['test_score']))\n",
    "\n",
    " "
   ]
  },
  {
   "cell_type": "markdown",
   "metadata": {},
   "source": [
    "Check the `coef_` attribute of your model. How many species are you using for taking the decision?"
   ]
  },
  {
   "cell_type": "code",
   "execution_count": 44,
   "metadata": {},
   "outputs": [
    {
     "name": "stdout",
     "output_type": "stream",
     "text": [
      "The model uses 1651 descriptors\n"
     ]
    }
   ],
   "source": [
    "# we have to use fit(), othervise coef_ does not exist\n",
    "logreg.fit(x_train, y_train)\n",
    "\n",
    "used_descriptors = np.sum(logreg.coef_ != 0)\n",
    "print(\"The model uses\", used_descriptors, \"descriptors\")\n"
   ]
  },
  {
   "cell_type": "markdown",
   "metadata": {},
   "source": [
    "Considering that only few bacterial species may be responsible for IBD, choose a relevant regularization (see the available penalties for logistic regression [here](https://scikit-learn.org/stable/modules/generated/sklearn.linear_model.LogisticRegression.html)).\n",
    "\n"
   ]
  },
  {
   "cell_type": "code",
   "execution_count": 45,
   "metadata": {},
   "outputs": [
    {
     "name": "stdout",
     "output_type": "stream",
     "text": [
      "Average Cross-Validation accuracy on test: 0.7170512820512821\n"
     ]
    }
   ],
   "source": [
    "# Split data into 50% train and 50% test subsets\n",
    "x_train, x_test, y_train, y_test = train_test_split(\n",
    "    ab_data, status, test_size=0.5, shuffle=True\n",
    ")\n",
    "\n",
    "# Create a regularized model\n",
    "logreg_regul = linear_model.LogisticRegression(penalty='l1', solver=\"liblinear\")\n",
    "logreg_regul.fit(x_train,y_train)\n",
    "pred = logreg_regul.predict(x_test)\n",
    "\n",
    "# Report accuracy on test set\n",
    "test_score = np.mean(cv['test_score'])\n",
    "print(\"Average Cross-Validation accuracy on test:\",test_score)\n",
    " "
   ]
  },
  {
   "cell_type": "markdown",
   "metadata": {},
   "source": [
    "Have you increased the accuracy? Looking at `logreg_regul.coef_`, how many descriptors are you using after regularization?\n",
    "All things considered, is it a better model?\n",
    "\n",
    "ANSwER: Yes, the model is better as we reach the same accuracy using less descriptors\n"
   ]
  },
  {
   "cell_type": "code",
   "execution_count": 46,
   "metadata": {},
   "outputs": [
    {
     "name": "stdout",
     "output_type": "stream",
     "text": [
      "The model uses 117 descriptors\n"
     ]
    }
   ],
   "source": [
    "# we have to use fit(), othervise coef_ does not exist\n",
    "logreg.fit(x_train, y_train)\n",
    "\n",
    "used_descriptors = np.sum(logreg_regul.coef_ != 0)\n",
    "print(\"The model uses\", used_descriptors, \"descriptors\")\n"
   ]
  },
  {
   "cell_type": "markdown",
   "metadata": {},
   "source": [
    "Remember that equivalent accuracy, but with fewer descriptors => more robust and explainable => better model !"
   ]
  },
  {
   "cell_type": "markdown",
   "metadata": {},
   "source": [
    "Find the optimal regularization strength, by comparing performances on test set and train set. If you have more time, best is to do it by plotting the mean performance in cross-validation, with confidence enveloppe (+/- std deviation) over the folds.\n"
   ]
  },
  {
   "cell_type": "code",
   "execution_count": 47,
   "metadata": {},
   "outputs": [
    {
     "data": {
      "image/png": "[encoded data removed]",
      "text/plain": [
       "<Figure size 640x480 with 1 Axes>"
      ]
     },
     "metadata": {},
     "output_type": "display_data"
    }
   ],
   "source": [
    "# Split data into 50% train and 50% test subsets\n",
    "x_train, x_test, y_train, y_test = train_test_split(\n",
    "    ab_data, status, test_size=0.5, shuffle=True\n",
    ")\n",
    "\n",
    "acc_test = list()\n",
    "acc_train = list()\n",
    "\n",
    "reg_strengths = [0.001, 0.005, 0.01, 0.03, 0.06, 0.1, 0.15, 0.2, 0.3, 1]\n",
    "\n",
    "\n",
    "\n",
    "for c in reg_strengths:\n",
    "    logreg = linear_model.LogisticRegression(C=c, solver=\"liblinear\")\n",
    "    cv = cross_validate(logreg, x_train, y_train, cv=5, scoring='accuracy', return_train_score=True)\n",
    "    \n",
    "    acc_test.append(np.mean(cv['test_score']))\n",
    "    acc_train.append(np.mean(cv['train_score']))\n",
    "\n",
    "plt.clf()\n",
    "plt.errorbar(reg_strengths, acc_test, yerr=np.std(cv['test_score']), label='acc test')\n",
    "plt.errorbar(reg_strengths, acc_train, yerr=np.std(cv['train_score']), label='acc train')\n",
    "plt.xscale('log')\n",
    "plt.xlabel('Regularization Strength (C)')\n",
    "plt.ylabel('Accuracy')\n",
    "plt.legend()\n",
    "plt.show()\n"
   ]
  },
  {
   "cell_type": "markdown",
   "metadata": {},
   "source": [
    "Train a classifier on the full dataset with the optimial regularization strength, and interpret the coefficients. You can check in particular if it is consistent with [this paper](https://pubmed.ncbi.nlm.nih.gov/27999802/) and [this one](https://pubmed.ncbi.nlm.nih.gov/20648002/)."
   ]
  },
  {
   "cell_type": "code",
   "execution_count": 66,
   "metadata": {},
   "outputs": [
    {
     "name": "stdout",
     "output_type": "stream",
     "text": [
      "['k__Bacteria|p__Firmicutes|c__Clostridia|o__Clostridiales|f__Lachnospiraceae|g__Roseburia'\n",
      " 'k__Bacteria|p__Firmicutes|c__Clostridia|o__Clostridiales|f__Lachnospiraceae|g__Blautia|s__Ruminococcus_torques'\n",
      " 'k__Bacteria|p__Firmicutes|c__Clostridia|o__Clostridiales|f__Lachnospiraceae|g__Blautia|s__Ruminococcus_torques|t__Ruminococcus_torques_unclassified']\n",
      "['k__Bacteria|p__Firmicutes|c__Clostridia|o__Clostridiales|f__Lachnospiraceae|g__Coprococcus|s__Coprococcus_comes'\n",
      " 'k__Bacteria|p__Firmicutes|c__Clostridia|o__Clostridiales|f__Lachnospiraceae|g__Coprococcus|s__Coprococcus_comes|t__GCF_000155875'\n",
      " 'k__Bacteria|p__Firmicutes|c__Clostridia|o__Clostridiales|f__Lachnospiraceae|g__Lachnospiraceae_noname|s__Lachnospiraceae_bacterium_1_1_57FAA|t__GCF_000218445']\n"
     ]
    },
    {
     "data": {
      "text/plain": [
       "array([164, 265, 311, ..., 262, 160, 100], dtype=int64)"
      ]
     },
     "execution_count": 66,
     "metadata": {},
     "output_type": "execute_result"
    }
   ],
   "source": [
    "# c is the optimal penalty given the previous graph (hard-code this number)\n",
    "c = 0.01\n",
    "logreg = linear_model.LogisticRegression(C=c, solver=\"liblinear\")\n",
    "logreg.fit(ab_data,status)\n",
    "\n",
    "# positive association IBD, you can make use of numpy argsort function\n",
    "order = np.argsort(logreg.coef_)\n",
    "order = order.tolist()\n",
    "print(np.array(descriptor_names)[order[0][0:3]])\n",
    "\n",
    "\n",
    "# negative association with IBD\n",
    "order_neg = np.argsort(logreg.coef_)[0][::-1]\n",
    "print(np.array(descriptor_names)[order_neg[0:3]])\n",
    "\n",
    "order_neg"
   ]
  },
  {
   "cell_type": "markdown",
   "metadata": {},
   "source": [
    "## Optional: other classifiers\n",
    "\n",
    "Use other models for supervised classification (decision trees, SVM, neural nets, etc.) with the IBD data. Evaluate properly the performances, and pay attention to regularization!\n",
    "\n"
   ]
  }
 ],
 "metadata": {
  "kernelspec": {
   "display_name": "Python 3 (ipykernel)",
   "language": "python",
   "name": "python3"
  },
  "language_info": {
   "codemirror_mode": {
    "name": "ipython",
    "version": 3
   },
   "file_extension": ".py",
   "mimetype": "text/x-python",
   "name": "python",
   "nbconvert_exporter": "python",
   "pygments_lexer": "ipython3",
   "version": "3.10.0"
  },
  "toc": {
   "base_numbering": 1,
   "nav_menu": {},
   "number_sections": false,
   "sideBar": false,
   "skip_h1_title": false,
   "title_cell": "Table of Contents",
   "title_sidebar": "Contents",
   "toc_cell": false,
   "toc_position": {},
   "toc_section_display": false,
   "toc_window_display": false
  }
 },
 "nbformat": 4,
 "nbformat_minor": 4
}
